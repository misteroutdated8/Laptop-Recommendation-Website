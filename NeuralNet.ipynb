{
 "cells": [
  {
   "cell_type": "code",
   "execution_count": 3,
   "metadata": {
    "collapsed": false
   },
   "outputs": [],
   "source": [
    "from numpy import exp, dot, array, random\n",
    "import pandas as pd\n",
    "import json\n",
    "import numpy as np\n",
    "\n",
    "\n",
    "class neuralNetwork():\n",
    "    def __init__(self):\n",
    "        # Seed the random number generator, so it generates the same numbers\n",
    "        # every time the program runs.\n",
    "        random.seed(0)\n",
    "\n",
    "        # 4 input connections and 1 output connection.\n",
    "        # We assign random weights to a 4 x 1 matrix\n",
    "        self.synaptic_weights = random.random((4, 1))\n",
    "        \n",
    "    #We pass the weighted sum of the inputs through this function to\n",
    "    # normalise them between 0 and 1.\n",
    "    def __sigmoid(self, x):\n",
    "        return 1 / (1 + exp( -x ))\n",
    "\n",
    "    #matrix multiplication of input matrix and weight matrix for forward propagation\n",
    "    def think(self, inputs):\n",
    "        return self.__sigmoid(dot( inputs, self.synaptic_weights ) )\n",
    "        \n",
    "    # The derivative of the Sigmoid function.\n",
    "    # This is the gradient of the Sigmoid curve.\n",
    "    # It indicates how confident we are about the existing weight.\n",
    "    def __sigmoid_derivative(self, x):\n",
    "        return x * (1 - x)\n",
    "        \n",
    "        #train the model through backward propagation by trail and error\n",
    "        #we adjust synaptic weights in each time\n",
    "    def train(self, training_set_inputs, training_set_outputs, iteration_time):\n",
    "        for iteration in range( iteration_time ):\n",
    "            output = self.think( training_set_inputs )\n",
    "            error = training_set_outputs - output\n",
    "            adjustment = dot( training_set_inputs.T, error * self.__sigmoid_derivative( output ))\n",
    "            self.synaptic_weights += adjustment\n",
    "            \n",
    "\n"
   ]
  },
  {
   "cell_type": "code",
   "execution_count": 15,
   "metadata": {
    "collapsed": false
   },
   "outputs": [
    {
     "name": "stdout",
     "output_type": "stream",
     "text": [
      "[ 0.6         0.6         1.          0.44444444]\n"
     ]
    }
   ],
   "source": [
    "if __name__ == \"__main__\":\n",
    "\tneural_net = neuralNetwork()\n",
    "\tindata = pd.read_excel( 'project.xlsx', parse_cols=3, header=None )\n",
    "\tInput = indata.to_string( index=False, header=False )\n",
    "\tMinput = indata.as_matrix()\n",
    "\n",
    "\toutRead = pd.read_excel( 'project.xlsx', header=None )\n",
    "\toutData = outRead.iloc[:, -1]\n",
    "\toutput = outData.to_string( index=False )\n",
    "\tMoutput = outData.as_matrix()\n",
    "  \n",
    "\ttraining_set_inputs = array( Minput )\n",
    "\ttraining_set_outputs=array([Moutput]).T\n",
    "\n",
    "    # Train the neural network using a training set inputs and outputs \n",
    "    # which are split from project.xlsx file .\n",
    "    # Do it 10,000 times and make small adjustments each time\n",
    "\tneural_net.train( training_set_inputs, training_set_outputs, 1200 )\n",
    "\n",
    "   \n",
    "\twith open('json-file') as data_file:\n",
    "\t\tdata=json.load(data_file)\n",
    "\t\tcs=float(data['clockspeed'])\n",
    "\t\trm=float(data['ram'])\n",
    "\t\tStr=float(data['storage'])\n",
    "\t\tpr=float(data['price'])\n",
    "\t\ttotal=array([cs,rm,Str,pr])\n",
    "\t\tprint(total)\n",
    "\t\t\n",
    "\n",
    "    \n",
    "    #make prediction for new data\n",
    "\tprediction = neural_net.think( total ) \n",
    "\tpr=np.squeeze(np.asarray(prediction))\n",
    "\tpr1=pr.tolist()\n",
    "\t#return json.dump(pr1)\n",
    "\n",
    "\tdef writeToJSONFile(path, fileName, data):\n",
    "\t\tfilePathNameWExt = './' + path + '/' + fileName\n",
    "\t\twith open(filePathNameWExt, 'w') as fp:\n",
    "\t\t\tjson.dump(data, fp)\n",
    "\n",
    "\tpath='./'\n",
    "\tfileName='example.json'\n",
    "\tdata={}\n",
    "\tdata['test1']=pr1\n",
    "\n",
    "\twriteToJSONFile(path, fileName, data)\n"
   ]
  },
  {
   "cell_type": "code",
   "execution_count": null,
   "metadata": {
    "collapsed": true
   },
   "outputs": [],
   "source": []
  }
 ],
 "metadata": {
  "kernelspec": {
   "display_name": "Python 3",
   "language": "python",
   "name": "python3"
  },
  "language_info": {
   "codemirror_mode": {
    "name": "ipython",
    "version": 3
   },
   "file_extension": ".py",
   "mimetype": "text/x-python",
   "name": "python",
   "nbconvert_exporter": "python",
   "pygments_lexer": "ipython3",
   "version": "3.6.0"
  }
 },
 "nbformat": 4,
 "nbformat_minor": 2
}
